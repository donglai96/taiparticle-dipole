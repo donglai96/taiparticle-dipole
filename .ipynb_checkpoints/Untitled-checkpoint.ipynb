{
 "cells": [
  {
   "cell_type": "code",
   "execution_count": 10,
   "id": "7270acdf",
   "metadata": {},
   "outputs": [
    {
     "name": "stdout",
     "output_type": "stream",
     "text": [
      "[0.29908191]\n"
     ]
    }
   ],
   "source": [
    "import numpy as np\n",
    "from sympy import *\n",
    "from taichiphysics import *\n",
    "from scipy.optimize import fsolve\n",
    "import constants as cst\n",
    "# alpha_eq = np.deg2rad(30)\n",
    "# def get_mirrorpoint2(x):\n",
    "#     return (1 - x)**3 - np.sin(alpha_eq)**2 * (1 + 3*x)**0.5\n",
    "\n",
    "# x = fsolve(get_mirrorpoint2, 0)\n",
    "\n",
    "# calculatge the integral of \n",
    "def getT(L,R,p,alpha_eq):\n",
    "    alpha = sympy.symbols('a')\n",
    "    \n",
    "    mirror_lat = get_mirrorpoint2(np.sin(alpha_eq)**2)\n",
    "    def get_mirrorpoint2(x):\n",
    "        return (1 - x)**3 - np.sin(alpha_eq)**2 * (1 + 3*x)**0.5\n",
    "\n",
    "    sin2alpha_m = fsolve(get_mirrorpoint2, 0)\n",
    "    alpha_m = np.arcsin(np.sqrt(sin2alpha_m))\n",
    "    sinalpha = (1 + 3 * np.sin(alpha)**2)**0.25/(np.cos(alpha)**3) * np.sin(alpha_eq)\n",
    "    v_para = p2v(p) * sinalpha\n",
    "    ds_da = L * R * (1 + 3 * np.sin(alpha)**2)**0.5 * np.cos(alpha)\n",
    "    \n",
    "    T = ds_da / v_para\n",
    "    print(T)\n",
    "    \n",
    "# def bouncef(L, R, p, m, alpha_eq):\n",
    "#     # get alpha_m\n",
    "    \n",
    "#     alpha_m = get_mirror_point\n",
    "\n",
    "print(x)\n",
    "getT(6.4,cst.Planet_Radius,5.27e-18,np.deg2rad(30))"
   ]
  },
  {
   "cell_type": "code",
   "execution_count": null,
   "id": "50f01c29",
   "metadata": {},
   "outputs": [],
   "source": [
    "def bouncef(L,R,p,m,alpha_eq)"
   ]
  },
  {
   "cell_type": "code",
   "execution_count": 11,
   "id": "76e73c23",
   "metadata": {},
   "outputs": [
    {
     "name": "stdout",
     "output_type": "stream",
     "text": [
      "9\n"
     ]
    }
   ],
   "source": [
    "import sympy\n",
    "\n",
    "x = sympy.symbols('x')\n",
    "f = x**2\n",
    "result = sympy.integrate(f, (x, 0, 3))\n",
    "print(result)"
   ]
  },
  {
   "cell_type": "code",
   "execution_count": null,
   "id": "9d765cb8",
   "metadata": {},
   "outputs": [],
   "source": []
  }
 ],
 "metadata": {
  "kernelspec": {
   "display_name": "Python 3 (ipykernel)",
   "language": "python",
   "name": "python3"
  },
  "language_info": {
   "codemirror_mode": {
    "name": "ipython",
    "version": 3
   },
   "file_extension": ".py",
   "mimetype": "text/x-python",
   "name": "python",
   "nbconvert_exporter": "python",
   "pygments_lexer": "ipython3",
   "version": "3.8.16"
  },
  "toc": {
   "base_numbering": 1,
   "nav_menu": {},
   "number_sections": true,
   "sideBar": true,
   "skip_h1_title": true,
   "title_cell": "Table of Contents",
   "title_sidebar": "Contents",
   "toc_cell": false,
   "toc_position": {},
   "toc_section_display": true,
   "toc_window_display": false
  },
  "varInspector": {
   "cols": {
    "lenName": 16,
    "lenType": 16,
    "lenVar": 40
   },
   "kernels_config": {
    "python": {
     "delete_cmd_postfix": "",
     "delete_cmd_prefix": "del ",
     "library": "var_list.py",
     "varRefreshCmd": "print(var_dic_list())"
    },
    "r": {
     "delete_cmd_postfix": ") ",
     "delete_cmd_prefix": "rm(",
     "library": "var_list.r",
     "varRefreshCmd": "cat(var_dic_list()) "
    }
   },
   "types_to_exclude": [
    "module",
    "function",
    "builtin_function_or_method",
    "instance",
    "_Feature"
   ],
   "window_display": false
  }
 },
 "nbformat": 4,
 "nbformat_minor": 5
}
